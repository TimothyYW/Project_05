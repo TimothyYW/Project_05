{
  "cells": [
    {
      "cell_type": "markdown",
      "metadata": {
        "id": "0aStgWSO0E0E"
      },
      "source": [
        "# **Data Collection**"
      ]
    },
    {
      "cell_type": "markdown",
      "metadata": {
        "id": "1eLEkw5O0ECa"
      },
      "source": [
        "## Objectives\n",
        "\n",
        "* Fetch data from Kaggle and save as raw data\n",
        "\n",
        "## Inputs\n",
        "\n",
        "* Kaggle JSON file - download Kaggle data\n",
        "\n",
        "## Outputs\n",
        "\n",
        "* Generate Datasets:\n",
        "** /inputs/housing-prices-data/house-price-20211124T154130Z-001/house-price/house_prices_records.csv\n",
        "** /inputs/housing-prices-data/house-price-20211124T154130Z-001/house-price/inherited_houses.csv\n",
        "\n",
        "## Additional Comments\n",
        "\n",
        "**Observation**\n",
        "+ Using average to fill null value continue variable\n",
        "+ Using model to fill the null value of categorical variable"
      ]
    },
    {
      "cell_type": "markdown",
      "metadata": {
        "id": "9uWZXH9LwoQg"
      },
      "source": [
        "---"
      ]
    },
    {
      "cell_type": "markdown",
      "metadata": {
        "id": "cqP-UeN-z3i2"
      },
      "source": [
        "# Change working directory"
      ]
    },
    {
      "cell_type": "markdown",
      "metadata": {
        "id": "aOGIGS-uz3i2"
      },
      "source": [
        "We need to change the working directory from its current folder to its parent folder\n",
        "* We access the current directory with os.getcwd()"
      ]
    },
    {
      "cell_type": "code",
      "execution_count": null,
      "metadata": {
        "id": "wZfF_j-Bz3i4",
        "outputId": "66943449-1436-4c3d-85c7-b85f9f78349b"
      },
      "outputs": [
        {
          "data": {
            "text/plain": [
              "'/workspace/Project_05/jupyter_notebooks'"
            ]
          },
          "execution_count": 5,
          "metadata": {},
          "output_type": "execute_result"
        }
      ],
      "source": [
        "import os\n",
        "current_dir = os.getcwd()\n",
        "current_dir"
      ]
    },
    {
      "cell_type": "markdown",
      "metadata": {
        "id": "9MWW8E7lz3i7"
      },
      "source": [
        "We want to make the parent of the current directory the new current directory\n",
        "* os.path.dirname() gets the parent directory\n",
        "* os.chir() defines the new current directory"
      ]
    },
    {
      "cell_type": "code",
      "execution_count": null,
      "metadata": {
        "id": "TwHsQRWjz3i9",
        "outputId": "86849db3-cd2f-4cc5-ebb8-2d0caafa1a2c"
      },
      "outputs": [
        {
          "name": "stdout",
          "output_type": "stream",
          "text": [
            "You set a new current directory\n"
          ]
        }
      ],
      "source": [
        "os.chdir(os.path.dirname(current_dir))\n",
        "print(\"You set a new current directory\")"
      ]
    },
    {
      "cell_type": "markdown",
      "metadata": {
        "id": "M_xPk_Ijz3i-"
      },
      "source": [
        "Confirm the new current directory"
      ]
    },
    {
      "cell_type": "code",
      "execution_count": null,
      "metadata": {
        "id": "vz3S-_kjz3jA",
        "outputId": "00b79ae4-75d0-4a96-d193-ac9ef9847ea2"
      },
      "outputs": [
        {
          "data": {
            "text/plain": [
              "'/workspace/Project_05'"
            ]
          },
          "execution_count": 7,
          "metadata": {},
          "output_type": "execute_result"
        }
      ],
      "source": [
        "current_dir = os.getcwd()\n",
        "current_dir"
      ]
    },
    {
      "cell_type": "code",
      "execution_count": 8,
      "metadata": {},
      "outputs": [],
      "source": [
        "# Install kaggle"
      ]
    },
    {
      "cell_type": "code",
      "execution_count": 10,
      "metadata": {},
      "outputs": [],
      "source": [
        "os.environ['KAGGLE_CONFIG_DIR'] = os.getcwd()\n",
        "! chmod 600 kaggle.json"
      ]
    },
    {
      "cell_type": "code",
      "execution_count": 11,
      "metadata": {},
      "outputs": [
        {
          "name": "stdout",
          "output_type": "stream",
          "text": [
            "housing-prices-data.zip: Skipping, found more recently modified local copy (use --force to force download)\n"
          ]
        }
      ],
      "source": [
        "KaggleDatasetPath = \"codeinstitute/housing-prices-data\"\n",
        "DestinationFolder = \"inputs/housing-prices-data\"   \n",
        "! kaggle datasets download -d {KaggleDatasetPath} -p {DestinationFolder}"
      ]
    },
    {
      "cell_type": "code",
      "execution_count": 12,
      "metadata": {},
      "outputs": [],
      "source": [
        "import zipfile\n",
        "with zipfile.ZipFile(DestinationFolder + '/housing-prices-data.zip', 'r') as zip_ref:\n",
        "    zip_ref.extractall(DestinationFolder)"
      ]
    },
    {
      "cell_type": "markdown",
      "metadata": {},
      "source": []
    },
    {
      "cell_type": "markdown",
      "metadata": {},
      "source": [
        "# Import"
      ]
    },
    {
      "cell_type": "code",
      "execution_count": 14,
      "metadata": {},
      "outputs": [
        {
          "data": {
            "text/plain": [
              "<bound method NDFrame.head of       1stFlrSF  2ndFlrSF  BedroomAbvGr BsmtExposure  BsmtFinSF1 BsmtFinType1  \\\n",
              "0          856     854.0           3.0           No         706          GLQ   \n",
              "1         1262       0.0           3.0           Gd         978          ALQ   \n",
              "2          920     866.0           3.0           Mn         486          GLQ   \n",
              "3          961       NaN           NaN           No         216          ALQ   \n",
              "4         1145       NaN           4.0           Av         655          GLQ   \n",
              "...        ...       ...           ...          ...         ...          ...   \n",
              "1455       953     694.0           3.0           No           0          Unf   \n",
              "1456      2073       0.0           NaN           No         790          ALQ   \n",
              "1457      1188    1152.0           4.0           No         275          GLQ   \n",
              "1458      1078       0.0           2.0           Mn          49          NaN   \n",
              "1459      1256       0.0           3.0           No         830          BLQ   \n",
              "\n",
              "      BsmtUnfSF  EnclosedPorch  GarageArea GarageFinish  ...  LotFrontage  \\\n",
              "0           150            0.0         548          RFn  ...         65.0   \n",
              "1           284            NaN         460          RFn  ...         80.0   \n",
              "2           434            0.0         608          RFn  ...         68.0   \n",
              "3           540            NaN         642          Unf  ...         60.0   \n",
              "4           490            0.0         836          RFn  ...         84.0   \n",
              "...         ...            ...         ...          ...  ...          ...   \n",
              "1455        953            NaN         460          RFn  ...         62.0   \n",
              "1456        589            NaN         500          Unf  ...         85.0   \n",
              "1457        877            NaN         252          RFn  ...         66.0   \n",
              "1458          0          112.0         240          Unf  ...         68.0   \n",
              "1459        136            0.0         276          Fin  ...         75.0   \n",
              "\n",
              "      MasVnrArea OpenPorchSF  OverallCond  OverallQual  TotalBsmtSF  \\\n",
              "0          196.0          61            5            7          856   \n",
              "1            0.0           0            8            6         1262   \n",
              "2          162.0          42            5            7          920   \n",
              "3            0.0          35            5            7          756   \n",
              "4          350.0          84            5            8         1145   \n",
              "...          ...         ...          ...          ...          ...   \n",
              "1455         0.0          40            5            6          953   \n",
              "1456       119.0           0            6            6         1542   \n",
              "1457         0.0          60            9            7         1152   \n",
              "1458         0.0           0            6            5         1078   \n",
              "1459         0.0          68            6            5         1256   \n",
              "\n",
              "      WoodDeckSF  YearBuilt  YearRemodAdd  SalePrice  \n",
              "0            0.0       2003          2003     208500  \n",
              "1            NaN       1976          1976     181500  \n",
              "2            NaN       2001          2002     223500  \n",
              "3            NaN       1915          1970     140000  \n",
              "4            NaN       2000          2000     250000  \n",
              "...          ...        ...           ...        ...  \n",
              "1455         0.0       1999          2000     175000  \n",
              "1456         NaN       1978          1988     210000  \n",
              "1457         NaN       1941          2006     266500  \n",
              "1458         NaN       1950          1996     142125  \n",
              "1459       736.0       1965          1965     147500  \n",
              "\n",
              "[1460 rows x 24 columns]>"
            ]
          },
          "execution_count": 14,
          "metadata": {},
          "output_type": "execute_result"
        }
      ],
      "source": [
        "import pandas as pd\n",
        "df = pd.read_csv(f\"inputs/housing-prices-data/house-price-20211124T154130Z-001/house-price/house_prices_records.csv\")\n",
        "df.head"
      ]
    },
    {
      "cell_type": "markdown",
      "metadata": {
        "id": "ltNetd085qHf"
      },
      "source": [
        "# Push files to Repo"
      ]
    },
    {
      "cell_type": "markdown",
      "metadata": {},
      "source": [
        "* This section will be collecting the data from the kaggle, follow-up with inpection of the dataset in form of columns.\n",
        "** "
      ]
    },
    {
      "cell_type": "code",
      "execution_count": null,
      "metadata": {
        "id": "aKlnIozA4eQO",
        "outputId": "fd09bc1f-adb1-4511-f6ce-492a6af570c0"
      },
      "outputs": [
        {
          "ename": "IndentationError",
          "evalue": "expected an indented block (2852421808.py, line 5)",
          "output_type": "error",
          "traceback": [
            "\u001b[0;36m  Cell \u001b[0;32mIn[15], line 5\u001b[0;36m\u001b[0m\n\u001b[0;31m    except Exception as e:\u001b[0m\n\u001b[0m    ^\u001b[0m\n\u001b[0;31mIndentationError\u001b[0m\u001b[0;31m:\u001b[0m expected an indented block\n"
          ]
        }
      ],
      "source": [
        "import os\n",
        "try:\n",
        "  # create here your folder\n",
        "  # os.makedirs(name='')\n",
        "except Exception as e:\n",
        "  print(e)\n"
      ]
    }
  ],
  "metadata": {
    "accelerator": "GPU",
    "colab": {
      "name": "Data Practitioner Jupyter Notebook.ipynb",
      "provenance": [],
      "toc_visible": true
    },
    "interpreter": {
      "hash": "8b8334dab9339717f727a1deaf837b322d7a41c20d15cc86be99a8e69ceec8ce"
    },
    "kernelspec": {
      "display_name": "Python 3.8.12 64-bit ('3.8.12': pyenv)",
      "name": "python3"
    },
    "language_info": {
      "codemirror_mode": {
        "name": "ipython",
        "version": 3
      },
      "file_extension": ".py",
      "mimetype": "text/x-python",
      "name": "python",
      "nbconvert_exporter": "python",
      "pygments_lexer": "ipython3",
      "version": "3.8.18"
    },
    "orig_nbformat": 2
  },
  "nbformat": 4,
  "nbformat_minor": 2
}
